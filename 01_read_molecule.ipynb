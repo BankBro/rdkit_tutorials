{
 "cells": [
  {
   "cell_type": "code",
   "execution_count": 1,
   "metadata": {},
   "outputs": [],
   "source": [
    "from rdkit import Chem"
   ]
  },
  {
   "cell_type": "markdown",
   "metadata": {},
   "source": [
    "# 1. SMILES/SMARTS\n",
    "SMARTS规则速查表:https://www.jianshu.com/p/ec1194c30422\n",
    "1. 原子表示:\n",
    "- 使用元素符号表示原子，如碳C，氧O\n",
    "- 使用\"[]\"表示同位素，如[13C]表示碳的同位素-13\n",
    "2. 键表示:\n",
    "- 单键: 使用链接原子的直线\"-\"表示，如C-C表示碳与碳之间的单键\n",
    "- 双键: 使用\"=\"表示，如C=C表示碳与碳之间的双键\n",
    "- 三键: 使用\"#\"表示，如C#C表示碳与碳之间的三键\n",
    "- 芳香键: 使用\":\"表示，如C:C表示芳香环中的碳与碳之间的键\n",
    "3. 环表示:\n",
    "- 使用**数字**表示环的闭合，如果结构中有环，则要打开\n",
    "- 断开处的两个原子用同一个数字标记，表示原子间有键相连，如环己烷(C6H12)，使用C1CCCCC1表示\n",
    "- 芳环中的C, O, S, N原子分别用小写字母c, o, s, n表示\n",
    "4. 支链表示:\n",
    "- 使用小括号\"()\"表示支链，如CC(C)C表示有一个支链的丙烷\n",
    "5. 立体化学表示:\n",
    "- 使用\"@\"和\"@@\"表示手性，\"@\"表示逆时针顺序的手性中心，\"@@\"表示顺时针顺序的手性中心"
   ]
  },
  {
   "cell_type": "markdown",
   "metadata": {},
   "source": [
    "(1) 从SMILES/SMARTS直接读取"
   ]
  },
  {
   "cell_type": "code",
   "execution_count": 2,
   "metadata": {},
   "outputs": [
    {
     "name": "stdout",
     "output_type": "stream",
     "text": [
      "<rdkit.Chem.rdchem.Mol object at 0x000002B628858D60>\n",
      "<rdkit.Chem.rdchem.Mol object at 0x000002B628858DD0>\n"
     ]
    }
   ],
   "source": [
    "smi = 'CC(C)OC(=O)C(C)NP(=O)(OCC1C(C(C(O1)N2C=CC(=O)NC2=O)(C)F)O)OC3=CC=CC=C3'\n",
    "mol = Chem.MolFromSmiles(smi)\n",
    "sms = Chem.MolFromSmarts('Cc1ccccc1')\n",
    "\n",
    "print(mol)\n",
    "print(sms)"
   ]
  },
  {
   "cell_type": "markdown",
   "metadata": {},
   "source": [
    "(2) 批量读取smiles\n",
    "1. 从.smi批量读取: SmileMolSupplier(data, delimiter, smilsColumn, nameColumn, titleLine, sanitize)\n",
    "  - data: 数据文件\n",
    "  - delimiter: 分隔符，默认为'\\t'\n",
    "  - silsColumn: SMILES所在列，默认为0\n",
    "  - nameColumn: SMILES名称所在列，默认为1\n",
    "  - titleLine: 是否含有标题行，默认为True\n",
    "  - sanitize: 是否检查正确性，默认为True\n",
    "  - 返回可迭代器"
   ]
  },
  {
   "cell_type": "code",
   "execution_count": 3,
   "metadata": {},
   "outputs": [
    {
     "name": "stdout",
     "output_type": "stream",
     "text": [
      "<rdkit.Chem.rdmolfiles.SmilesMolSupplier object at 0x000002B63991DCC0>\n",
      "['C1=CC=CC=CC=C1', 'c1ccccc1', 'c1ccoc1']\n"
     ]
    }
   ],
   "source": [
    "suppl = Chem.SmilesMolSupplier('data/batch_smiles.smi', delimiter='\\t')\n",
    "print(suppl)\n",
    "mols = [Chem.MolToSmiles(mol) for mol in suppl]\n",
    "print(mols)"
   ]
  },
  {
   "cell_type": "markdown",
   "metadata": {},
   "source": [
    "2. 从文本批量读取: SmilesMolSupplierFromText()\n",
    "- 参数基本同上"
   ]
  },
  {
   "cell_type": "code",
   "execution_count": 4,
   "metadata": {},
   "outputs": [
    {
     "name": "stdout",
     "output_type": "stream",
     "text": [
      "['C1=CC=CC=CC=C1', 'c1ccccc1', 'c1ccoc1']\n"
     ]
    }
   ],
   "source": [
    "with open('data/batch_smiles.smi', 'r') as f:\n",
    "    mols_text = f.read()\n",
    "suppl = Chem.SmilesMolSupplierFromText(mols_text, delimiter='\\t')\n",
    "mols = [Chem.MolToSmiles(mol) for mol in suppl]\n",
    "print(mols)"
   ]
  },
  {
   "cell_type": "markdown",
   "metadata": {},
   "source": [
    "3. 读取DataFrame中的SMILES\n",
    "- PandasTools.AddMoleculeColumnToFrame(frame, smilesCol, molCol, includeFingerprints)\n",
    "- frame: DataFrame对象\n",
    "- smilesCol: SMILES所在列\n",
    "- molCol: 新列名，将存放产生的rdkit mol对象\n",
    "- includeFingerprints: 是否生成指纹"
   ]
  },
  {
   "cell_type": "code",
   "execution_count": 5,
   "metadata": {},
   "outputs": [
    {
     "data": {
      "text/html": [
       "<div>\n",
       "<style scoped>\n",
       "    .dataframe tbody tr th:only-of-type {\n",
       "        vertical-align: middle;\n",
       "    }\n",
       "\n",
       "    .dataframe tbody tr th {\n",
       "        vertical-align: top;\n",
       "    }\n",
       "\n",
       "    .dataframe thead th {\n",
       "        text-align: right;\n",
       "    }\n",
       "</style>\n",
       "<table border=\"1\" class=\"dataframe\">\n",
       "  <thead>\n",
       "    <tr style=\"text-align: right;\">\n",
       "      <th></th>\n",
       "      <th>Name</th>\n",
       "      <th>SMILES</th>\n",
       "    </tr>\n",
       "  </thead>\n",
       "  <tbody>\n",
       "    <tr>\n",
       "      <th>0</th>\n",
       "      <td>Lanreotide</td>\n",
       "      <td>c1(c2c(cccc2)[nH]c1)C[C@@H]1NC(=O)[C@@H](Cc2cc...</td>\n",
       "    </tr>\n",
       "    <tr>\n",
       "      <th>1</th>\n",
       "      <td>Lansoprazole</td>\n",
       "      <td>Cc1c(OCC(F)(F)F)ccnc1CS(=O)c2nc3ccccc3[nH]2</td>\n",
       "    </tr>\n",
       "    <tr>\n",
       "      <th>2</th>\n",
       "      <td>Laromustine</td>\n",
       "      <td>CS(=O)(=O)[N@@](N(S(=O)(=O)C)C(=O)NC)CCCl</td>\n",
       "    </tr>\n",
       "    <tr>\n",
       "      <th>3</th>\n",
       "      <td>Laropiprant</td>\n",
       "      <td>CS(=O)(=O)c1cc(cc2c1n(c3c2CC[C@@H]3CC(=O)O)Cc4...</td>\n",
       "    </tr>\n",
       "    <tr>\n",
       "      <th>4</th>\n",
       "      <td>Larotaxel</td>\n",
       "      <td>O=C1[C@@]23[C@@H]([C@@]4(OC(=O)C)[C@@H](C[C@@H...</td>\n",
       "    </tr>\n",
       "  </tbody>\n",
       "</table>\n",
       "</div>"
      ],
      "text/plain": [
       "           Name                                             SMILES\n",
       "0    Lanreotide  c1(c2c(cccc2)[nH]c1)C[C@@H]1NC(=O)[C@@H](Cc2cc...\n",
       "1  Lansoprazole        Cc1c(OCC(F)(F)F)ccnc1CS(=O)c2nc3ccccc3[nH]2\n",
       "2   Laromustine          CS(=O)(=O)[N@@](N(S(=O)(=O)C)C(=O)NC)CCCl\n",
       "3   Laropiprant  CS(=O)(=O)c1cc(cc2c1n(c3c2CC[C@@H]3CC(=O)O)Cc4...\n",
       "4     Larotaxel  O=C1[C@@]23[C@@H]([C@@]4(OC(=O)C)[C@@H](C[C@@H..."
      ]
     },
     "execution_count": 5,
     "metadata": {},
     "output_type": "execute_result"
    }
   ],
   "source": [
    "import pandas as pd\n",
    "from rdkit.Chem import PandasTools, Descriptors\n",
    "\n",
    "df = pd.read_csv('data/smiles_df.csv')\n",
    "df"
   ]
  },
  {
   "cell_type": "code",
   "execution_count": 6,
   "metadata": {},
   "outputs": [
    {
     "name": "stdout",
     "output_type": "stream",
     "text": [
      "           Name                                             SMILES   \n",
      "0    Lanreotide  c1(c2c(cccc2)[nH]c1)C[C@@H]1NC(=O)[C@@H](Cc2cc...  \\\n",
      "1  Lansoprazole        Cc1c(OCC(F)(F)F)ccnc1CS(=O)c2nc3ccccc3[nH]2   \n",
      "\n",
      "                                                 mol        MW  \n",
      "0  <rdkit.Chem.rdchem.Mol object at 0x000002B63AD...  1096.347  \n",
      "1  <rdkit.Chem.rdchem.Mol object at 0x000002B63AD...   369.368  \n"
     ]
    }
   ],
   "source": [
    "PandasTools.AddMoleculeColumnToFrame(df, 'SMILES', 'mol', includeFingerprints=True)\n",
    "df['MW'] = df['mol'].apply(Descriptors.MolWt)\n",
    "print(df.head(2))"
   ]
  },
  {
   "cell_type": "markdown",
   "metadata": {},
   "source": [
    "# 2. 读入sdf文件\n",
    "- 从.sdf里批量读取: Chem.SDMolSupplier(fileName, sanitize, removeHs, strictParsing)\n",
    "- fileName: 文件名\n",
    "- sanitize: 检查化合价，计算芳香性，共轭，杂化，kekule，默认True\n",
    "- removeHs: 移除氢原子，默认True\n",
    "- strictParsing: 严格解析，默认True"
   ]
  },
  {
   "cell_type": "code",
   "execution_count": 8,
   "metadata": {},
   "outputs": [
    {
     "name": "stdout",
     "output_type": "stream",
     "text": [
      "['C1=C\\\\C=C/C=C\\\\C=C/1', 'c1ccccc1', 'c1ccoc1']\n"
     ]
    }
   ],
   "source": [
    "from rdkit import Chem\n",
    "suppl = Chem.SDMolSupplier('data/batch.sdf')\n",
    "mols = [Chem.MolToSmiles(mol) for mol in suppl if mol]\n",
    "print(mols)"
   ]
  },
  {
   "cell_type": "markdown",
   "metadata": {},
   "source": [
    "# 3. 读入mol文件\n",
    "- 从.mol里读取: Chem.MolFromMolFile(fileName, sanitize, removeHs, strictParsing)"
   ]
  },
  {
   "cell_type": "code",
   "execution_count": 10,
   "metadata": {},
   "outputs": [
    {
     "name": "stdout",
     "output_type": "stream",
     "text": [
      "C1CCC1\n"
     ]
    }
   ],
   "source": [
    "m = Chem.MolFromMolFile('data/output.mol')\n",
    "print(Chem.MolToSmiles(m))"
   ]
  },
  {
   "cell_type": "markdown",
   "metadata": {},
   "source": [
    "# 4. 读入多肽字符串"
   ]
  },
  {
   "cell_type": "code",
   "execution_count": 11,
   "metadata": {},
   "outputs": [
    {
     "name": "stdout",
     "output_type": "stream",
     "text": [
      "smi NCC(=O)NCC(=O)NCC(=O)NCC(=O)NCC(=O)O\n"
     ]
    }
   ],
   "source": [
    "seq = 'GGGGG'\n",
    "mol = Chem.MolFromSequence(seq)\n",
    "smi = Chem.MolToSmiles(mol)\n",
    "print('smi', smi)"
   ]
  },
  {
   "cell_type": "markdown",
   "metadata": {},
   "source": [
    "# 5. 读入inchi"
   ]
  },
  {
   "cell_type": "code",
   "execution_count": 13,
   "metadata": {},
   "outputs": [
    {
     "name": "stdout",
     "output_type": "stream",
     "text": [
      "C1CCCCC1\n"
     ]
    }
   ],
   "source": [
    "inchi = 'InChI=1S/C6H12/c1-2-4-6-5-3-1/h1-6H2'\n",
    "mol = Chem.inchi.MolFromInchi(inchi)\n",
    "smi = Chem.MolToSmiles(mol)\n",
    "print(smi)"
   ]
  }
 ],
 "metadata": {
  "kernelspec": {
   "display_name": "py39",
   "language": "python",
   "name": "python3"
  },
  "language_info": {
   "codemirror_mode": {
    "name": "ipython",
    "version": 3
   },
   "file_extension": ".py",
   "mimetype": "text/x-python",
   "name": "python",
   "nbconvert_exporter": "python",
   "pygments_lexer": "ipython3",
   "version": "3.9.19"
  }
 },
 "nbformat": 4,
 "nbformat_minor": 2
}
