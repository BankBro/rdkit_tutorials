{
 "cells": [
  {
   "cell_type": "code",
   "execution_count": 19,
   "metadata": {},
   "outputs": [],
   "source": [
    "import rdkit\n",
    "from rdkit import Chem"
   ]
  },
  {
   "cell_type": "markdown",
   "metadata": {},
   "source": [
    "RDKit可以把分子对象保存成Smiles, molBlock, mol, inchi, inchikey文件\n",
    "\n",
    "# 1. 输出SMILES/SMARTS\n",
    "**输出默认式**\n",
    "- 输出SMILES: MolToSmiles(mol, isomericSmiles, kekuleSmiles, canonical, ...)\n",
    "- isomericSmiles: 默认True，区分同分异构体(\"@\"表示手性，\"\"和\"/\"表示顺反异构)\n",
    "- kekuleSmiles: 默认False，不使用kekule时，脂肪族碳用\"C\"表示(大写)，芳香族用\"c\"表示(小写)\n",
    "- canonical: 默认True，输出标准SMILES"
   ]
  },
  {
   "cell_type": "code",
   "execution_count": 20,
   "metadata": {},
   "outputs": [
    {
     "name": "stdout",
     "output_type": "stream",
     "text": [
      "['C1=CC=CC=CC=C1', 'c1ccccc1', 'c1ccoc1']\n"
     ]
    }
   ],
   "source": [
    "m1 = Chem.MolFromSmiles(\"C1=CC=CC=CC=C1\")\n",
    "m2 = Chem.MolFromSmiles(\"C1=CC=CC=C1\")\n",
    "m3 = Chem.MolFromSmiles(\"C1=COC=C1\")\n",
    "mols = [m1, m2, m3]\n",
    "\n",
    "smiles_list = [Chem.MolToSmiles(m) for m in mols]\n",
    "print(smiles_list)"
   ]
  },
  {
   "cell_type": "markdown",
   "metadata": {},
   "source": [
    "**设置立体参数**\n",
    "- 不区分同分异构体，通过isomericSmiles控制"
   ]
  },
  {
   "cell_type": "code",
   "execution_count": 21,
   "metadata": {},
   "outputs": [
    {
     "name": "stdout",
     "output_type": "stream",
     "text": [
      "C[C@H](O)c1ccccc1\n",
      "CC(O)c1ccccc1\n"
     ]
    }
   ],
   "source": [
    "m4 = Chem.MolFromSmiles('C[C@H](O)c1ccccc1')\n",
    "\n",
    "print(Chem.MolToSmiles(m4))  # 默认包含立体化学信息\n",
    "print(Chem.MolToSmiles(m4, isomericSmiles=False))  # 不包含立体化学信息"
   ]
  },
  {
   "cell_type": "markdown",
   "metadata": {},
   "source": [
    "# 2. 批量输出SMILES\n",
    "- 批量输出SMILES: SmilesWriter(fileName, delimiter, includeHeader, nameHeader, isomricSmiles, kekuleSmiles)\n",
    "  - fileName: 输出文件名\n",
    "  - delimiter: 分隔符，默认为''\n",
    "  - includeHeader: 是否写入表头，默认为True\n",
    "  - nameHeader: 分子名一列的列名，默认'Name'\n",
    "  - isomricSmiles: 立体信息，默认True\n",
    "  - kekuleSmiles: kekule形式，默认False\n",
    "  - 返回一个writer对象\n",
    "\n",
    "- 写入SMILES: SmilesWriter.write(mol, conFld)\n",
    "  - mol: mol对象\n",
    "  - conFld: 写入的第几个构象"
   ]
  },
  {
   "cell_type": "code",
   "execution_count": 22,
   "metadata": {},
   "outputs": [],
   "source": [
    "# 创建SmilesWriter对象，将SMILES写入文件'data/batch.smi'，以制表符为分隔符\n",
    "writer = Chem.SmilesWriter('data/batch.smi', delimiter='\\t')\n",
    "\n",
    "# 遍历数据集，将SMILES写入文件\n",
    "for i, mol in enumerate(mols):\n",
    "    writer.write(mol)\n",
    "\n",
    "# 关闭SmilesWriter对象\n",
    "writer.close()"
   ]
  },
  {
   "cell_type": "code",
   "execution_count": 23,
   "metadata": {},
   "outputs": [
    {
     "name": "stdout",
     "output_type": "stream",
     "text": [
      "SMILES\tName\t\n",
      "C1=CC=CC=CC=C1\t0\n",
      "c1ccccc1\t1\n",
      "c1ccoc1\t2\n"
     ]
    }
   ],
   "source": [
    "%more data/batch.smi"
   ]
  },
  {
   "cell_type": "markdown",
   "metadata": {},
   "source": [
    "# 3. 批量输出SMILES和属性\n",
    "- 批量输出SMILES及属性，通过以下函数进行操作:\n",
    "    - mol.GetPropNames()，查看分子属性列表\n",
    "    - mol.GetProp()，获取相应属性\n",
    "    - mol.SetProp(key, val)，新增属性名key、对应属性值val\n",
    "    - writer.SetProps()，设置哪些属性要输出\n",
    "- 以输出分子量和LogP为例\n",
    "    - 使用Descriptors计算属性并添加"
   ]
  },
  {
   "cell_type": "code",
   "execution_count": 24,
   "metadata": {},
   "outputs": [
    {
     "name": "stdout",
     "output_type": "stream",
     "text": [
      "number of mols: 3\n",
      "mol properties: ['MW', 'LOGP']\n"
     ]
    }
   ],
   "source": [
    "from rdkit.Chem import Descriptors\n",
    "\n",
    "writer = Chem.SmilesWriter('data/batch_smiles2.smi')\n",
    "writer.SetProps(['LOGP', 'MW'])\n",
    "\n",
    "for i, mol in enumerate(mols):\n",
    "    mw = Descriptors.ExactMolWt(mol)\n",
    "    logp = Descriptors.MolLogP(mol)\n",
    "    \n",
    "    mol.SetProp('MW', f\"{mw}\")\n",
    "    mol.SetProp('LOGP', f\"{logp}\")\n",
    "    mol.SetProp('_Name', f\"No_{i}\")\n",
    "    writer.write(mol)\n",
    "writer.close()\n",
    "\n",
    "print('number of mols:', writer.NumMols())\n",
    "print('mol properties:', [i for i in mol.GetPropNames()])"
   ]
  },
  {
   "cell_type": "code",
   "execution_count": 25,
   "metadata": {},
   "outputs": [
    {
     "name": "stdout",
     "output_type": "stream",
     "text": [
      "SMILES Name LOGP MW\n",
      "C1=CC=CC=CC=C1 No_0 2.2248 104.062600256\n",
      "c1ccccc1 No_1 1.6866 78.046950192\n",
      "c1ccoc1 No_2 1.2795999999999998 68.026214748\n"
     ]
    }
   ],
   "source": [
    "%more data/batch_smiles2.smi"
   ]
  },
  {
   "cell_type": "markdown",
   "metadata": {},
   "source": [
    "# 4. 输出SMARTS\n",
    "- 输出SMARTS: MolToSmarts()"
   ]
  },
  {
   "cell_type": "code",
   "execution_count": 26,
   "metadata": {},
   "outputs": [
    {
     "data": {
      "text/plain": [
       "'[#6]1:[#6]:[#8]:[#6]:[#6]:1'"
      ]
     },
     "execution_count": 26,
     "metadata": {},
     "output_type": "execute_result"
    }
   ],
   "source": [
    "Chem.MolToSmarts(m3, isomericSmiles=True)"
   ]
  },
  {
   "cell_type": "markdown",
   "metadata": {},
   "source": [
    "# 5. 批量输出到sdf文件\n",
    "- 批量输出到文件: SDWriter()\n",
    "  - 使用方法类似于SMILES的批量输出，可以自定义属性信息并记录在.sdf文件中，返回writer对象\n",
    "- 写入sdf: writer(mol, confld)\n",
    "  - mol: mol对象\n",
    "  - confld: 写入的第几个构象(不同构象坐标不一样) "
   ]
  },
  {
   "cell_type": "code",
   "execution_count": 28,
   "metadata": {},
   "outputs": [],
   "source": [
    "writer = Chem.SDWriter('data/batch2.sdf')\n",
    "writer.SetProps(['LOGP', 'MW'])\n",
    "\n",
    "for i, mol in enumerate(mols):\n",
    "    mw = Descriptors.MolWt(mol)\n",
    "    logp = Descriptors.MolLogP(mol)\n",
    "    \n",
    "    mol.SetProp('MW', str(mw))\n",
    "    mol.SetProp('LOGP', str(logp))\n",
    "    mol.SetProp('_Name', f\"No_{i}\")\n",
    "    writer.write(mol)\n",
    "writer.close()"
   ]
  },
  {
   "cell_type": "code",
   "execution_count": 29,
   "metadata": {},
   "outputs": [
    {
     "name": "stdout",
     "output_type": "stream",
     "text": [
      "No_0\n",
      "     RDKit          2D\n",
      "\n",
      "  8  8  0  0  0  0  0  0  0  0999 V2000\n",
      "    1.9598    0.0000    0.0000 C   0  0  0  0  0  0  0  0  0  0  0  0\n",
      "    1.3858   -1.3858    0.0000 C   0  0  0  0  0  0  0  0  0  0  0  0\n",
      "   -0.0000   -1.9598    0.0000 C   0  0  0  0  0  0  0  0  0  0  0  0\n",
      "   -1.3858   -1.3858    0.0000 C   0  0  0  0  0  0  0  0  0  0  0  0\n",
      "   -1.9598    0.0000    0.0000 C   0  0  0  0  0  0  0  0  0  0  0  0\n",
      "   -1.3858    1.3858    0.0000 C   0  0  0  0  0  0  0  0  0  0  0  0\n",
      "    0.0000    1.9598    0.0000 C   0  0  0  0  0  0  0  0  0  0  0  0\n",
      "    1.3858    1.3858    0.0000 C   0  0  0  0  0  0  0  0  0  0  0  0\n",
      "  1  2  2  0\n",
      "  2  3  1  0\n",
      "  3  4  2  0\n",
      "  4  5  1  0\n",
      "  5  6  2  0\n",
      "  6  7  1  0\n",
      "  7  8  2  0\n",
      "  8  1  1  0\n",
      "M  END\n",
      ">  <LOGP>  (1) \n",
      "2.2248\n",
      "\n",
      ">  <MW>  (1) \n",
      "104.15199999999997\n",
      "\n",
      "$$$$\n",
      "No_1\n",
      "     RDKit          2D\n",
      "\n",
      "  6  6  0  0  0  0  0  0  0  0999 V2000\n",
      "    1.5000    0.0000    0.0000 C   0  0  0  0  0  0  0  0  0  0  0  0\n",
      "    0.7500   -1.2990    0.0000 C   0  0  0  0  0  0  0  0  0  0  0  0\n",
      "   -0.7500   -1.2990    0.0000 C   0  0  0  0  0  0  0  0  0  0  0  0\n",
      "   -1.5000    0.0000    0.0000 C   0  0  0  0  0  0  0  0  0  0  0  0\n",
      "   -0.7500    1.2990    0.0000 C   0  0  0  0  0  0  0  0  0  0  0  0\n",
      "    0.7500    1.2990    0.0000 C   0  0  0  0  0  0  0  0  0  0  0  0\n",
      "  1  2  2  0\n",
      "  2  3  1  0\n",
      "  3  4  2  0\n",
      "  4  5  1  0\n",
      "  5  6  2  0\n",
      "  6  1  1  0\n",
      "M  END\n",
      ">  <LOGP>  (2) \n",
      "1.6866\n",
      "\n",
      ">  <MW>  (2) \n",
      "78.11399999999999\n",
      "\n",
      "$$$$\n",
      "No_2\n",
      "     RDKit          2D\n",
      "\n",
      "  5  5  0  0  0  0  0  0  0  0999 V2000\n",
      "    1.2760    0.0000    0.0000 C   0  0  0  0  0  0  0  0  0  0  0  0\n",
      "    0.3943    1.2135    0.0000 C   0  0  0  0  0  0  0  0  0  0  0  0\n",
      "   -1.0323    0.7500    0.0000 O   0  0  0  0  0  0  0  0  0  0  0  0\n",
      "   -1.0323   -0.7500    0.0000 C   0  0  0  0  0  0  0  0  0  0  0  0\n",
      "    0.3943   -1.2135    0.0000 C   0  0  0  0  0  0  0  0  0  0  0  0\n",
      "  1  2  2  0\n",
      "  2  3  1  0\n",
      "  3  4  1  0\n",
      "  4  5  2  0\n",
      "  5  1  1  0\n",
      "M  END\n",
      ">  <LOGP>  (3) \n",
      "1.2795999999999998\n",
      "\n",
      ">  <MW>  (3) \n",
      "68.075\n",
      "\n",
      "$$$$\n"
     ]
    }
   ],
   "source": [
    "%more data/batch2.sdf"
   ]
  },
  {
   "cell_type": "markdown",
   "metadata": {},
   "source": [
    "# 6. 输出mol\n",
    "(1) 输出为连接表\n",
    "- 直接输出: MolToMolBlock()"
   ]
  },
  {
   "cell_type": "code",
   "execution_count": 30,
   "metadata": {},
   "outputs": [
    {
     "name": "stdout",
     "output_type": "stream",
     "text": [
      "\n",
      "     RDKit          2D\n",
      "\n",
      "  4  4  0  0  0  0  0  0  0  0999 V2000\n",
      "    1.0607    0.0000    0.0000 C   0  0  0  0  0  0  0  0  0  0  0  0\n",
      "   -0.0000   -1.0607    0.0000 C   0  0  0  0  0  0  0  0  0  0  0  0\n",
      "   -1.0607    0.0000    0.0000 C   0  0  0  0  0  0  0  0  0  0  0  0\n",
      "    0.0000    1.0607    0.0000 C   0  0  0  0  0  0  0  0  0  0  0  0\n",
      "  1  2  1  0\n",
      "  2  3  1  0\n",
      "  3  4  1  0\n",
      "  4  1  1  0\n",
      "M  END\n",
      "\n"
     ]
    }
   ],
   "source": [
    "m1 = Chem.MolFromSmiles('C1CCC1')\n",
    "print(Chem.MolToMolBlock(m1))"
   ]
  },
  {
   "cell_type": "markdown",
   "metadata": {},
   "source": [
    "(2) 输出到.mol\n",
    "- 输出到文件: MolToMolFile(mol, filename, includeStereo, ...)\n",
    "- mol: mol对象\n",
    "- filename: 文件名\n",
    "- includeStereo: 立体信息，默认True"
   ]
  },
  {
   "cell_type": "code",
   "execution_count": 31,
   "metadata": {},
   "outputs": [],
   "source": [
    "m1.SetProp('_Name', 'cyclobutane')\n",
    "Chem.MolToMolFile(m1, 'data/output2.mol')"
   ]
  },
  {
   "cell_type": "code",
   "execution_count": 32,
   "metadata": {},
   "outputs": [
    {
     "name": "stdout",
     "output_type": "stream",
     "text": [
      "cyclobutane\n",
      "     RDKit          2D\n",
      "\n",
      "  4  4  0  0  0  0  0  0  0  0999 V2000\n",
      "    1.0607    0.0000    0.0000 C   0  0  0  0  0  0  0  0  0  0  0  0\n",
      "   -0.0000   -1.0607    0.0000 C   0  0  0  0  0  0  0  0  0  0  0  0\n",
      "   -1.0607    0.0000    0.0000 C   0  0  0  0  0  0  0  0  0  0  0  0\n",
      "    0.0000    1.0607    0.0000 C   0  0  0  0  0  0  0  0  0  0  0  0\n",
      "  1  2  1  0\n",
      "  2  3  1  0\n",
      "  3  4  1  0\n",
      "  4  1  1  0\n",
      "M  END\n"
     ]
    }
   ],
   "source": [
    "%more data/output2.mol"
   ]
  },
  {
   "cell_type": "markdown",
   "metadata": {},
   "source": [
    "# 7. 输出其他格式: pdb, fasta, xyz ..."
   ]
  },
  {
   "cell_type": "code",
   "execution_count": null,
   "metadata": {},
   "outputs": [],
   "source": [
    "# .pdb\n",
    "Chem.MolToPDBBlock()\n",
    "Chem.MolToPDBFile()\n",
    "Chem.PDBWriter()\n",
    "\n",
    "# .fasta\n",
    "Chem.MolToFASTA()\n",
    "\n",
    "# .xyz\n",
    "Chem.MolToXYZBlock()\n",
    "Chem.MolToXYZFile()"
   ]
  }
 ],
 "metadata": {
  "kernelspec": {
   "display_name": "myrdkit",
   "language": "python",
   "name": "python3"
  },
  "language_info": {
   "codemirror_mode": {
    "name": "ipython",
    "version": 3
   },
   "file_extension": ".py",
   "mimetype": "text/x-python",
   "name": "python",
   "nbconvert_exporter": "python",
   "pygments_lexer": "ipython3",
   "version": "3.9.19"
  }
 },
 "nbformat": 4,
 "nbformat_minor": 2
}
